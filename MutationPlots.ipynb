{
 "cells": [
  {
   "cell_type": "code",
   "execution_count": 1,
   "metadata": {
    "collapsed": true
   },
   "outputs": [],
   "source": [
    "import matplotlib\n",
    "matplotlib.use('Qt5Agg') \n",
    "from numpy import *\n",
    "from matplotlib.pyplot import *"
   ]
  },
  {
   "cell_type": "code",
   "execution_count": 352,
   "metadata": {
    "collapsed": false
   },
   "outputs": [],
   "source": [
    "figure()\n",
    "evo = loadtxt('M20L0R1C10.txt')\n",
    "mmut = evo[:,0]\n",
    "best = evo[:,1]\n",
    "fixed = evo[:,2]\n",
    "H = evo[:,3]\n",
    "H1 = evo[:,4]\n",
    "subplot(2,1,1)\n",
    "plot(mmut, 'g',label=\"Mean\")\n",
    "plot(best,'r',label=\"Best class\")\n",
    "ylim(0,25)\n",
    "\n",
    "plot(fixed, 'purple', label=\"Fixed\")\n",
    "ylabel(\"Mutation count\")\n",
    "grid()\n",
    "legend(loc=2)\n",
    "subplot(2,1,2)\n",
    "plot(H, 'r', label=\"H(LLC)\")\n",
    "plot(H1, 'g', label=\"H(LLC+1)\")\n",
    "ylim(0,0.05)\n",
    "ylabel(\"Gene diversity H\")\n",
    "xlabel(\"Time\")\n",
    "grid()\n",
    "tight_layout()\n",
    "legend(loc=2)\n",
    "\n",
    "show()"
   ]
  },
  {
   "cell_type": "code",
   "execution_count": null,
   "metadata": {
    "collapsed": true
   },
   "outputs": [],
   "source": []
  }
 ],
 "metadata": {
  "anaconda-cloud": {},
  "kernelspec": {
   "display_name": "Python [default]",
   "language": "python",
   "name": "python2"
  },
  "language_info": {
   "codemirror_mode": {
    "name": "ipython",
    "version": 2
   },
   "file_extension": ".py",
   "mimetype": "text/x-python",
   "name": "python",
   "nbconvert_exporter": "python",
   "pygments_lexer": "ipython2",
   "version": "2.7.12"
  }
 },
 "nbformat": 4,
 "nbformat_minor": 1
}
